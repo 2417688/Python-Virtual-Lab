{
 "cells": [
  {
   "cell_type": "markdown",
   "id": "55a04d70-6a25-48e9-a986-2225d999fd4a",
   "metadata": {},
   "source": [
    "## If"
   ]
  },
  {
   "cell_type": "code",
   "execution_count": 31,
   "id": "8d1a06fe-bab2-492f-8ea7-757cf95335b0",
   "metadata": {},
   "outputs": [
    {
     "name": "stdout",
     "output_type": "stream",
     "text": [
      "You are in Category A\n"
     ]
    }
   ],
   "source": [
    "age = 19\n",
    "if age > 18:\n",
    "    print(\"You are in Category A\")\n",
    "elif age > 16:\n",
    "    print(\"You are in Category B\")\n",
    "else: \n",
    "    print(\"You are in Category C\")"
   ]
  },
  {
   "cell_type": "markdown",
   "id": "06924b5a-f0de-4b44-bc50-aaaeee42e1bc",
   "metadata": {},
   "source": [
    "## While Loops"
   ]
  },
  {
   "cell_type": "code",
   "execution_count": 35,
   "id": "737a01b2-7217-4aef-ae47-0d31bcbf3b20",
   "metadata": {},
   "outputs": [],
   "source": [
    "i=1"
   ]
  },
  {
   "cell_type": "code",
   "execution_count": 17,
   "id": "c8ef0db2-db5f-460e-a351-62e6ecf278af",
   "metadata": {},
   "outputs": [
    {
     "name": "stdout",
     "output_type": "stream",
     "text": [
      "1\n",
      "4\n",
      "9\n",
      "16\n",
      "25\n",
      "36\n",
      "49\n",
      "64\n",
      "81\n",
      "100\n",
      "121\n",
      "144\n",
      "169\n",
      "196\n",
      "225\n",
      "256\n",
      "289\n",
      "324\n",
      "361\n",
      "400\n",
      "441\n",
      "484\n",
      "529\n",
      "576\n",
      "625\n",
      "676\n",
      "729\n",
      "784\n",
      "841\n",
      "900\n",
      "961\n",
      "1024\n",
      "1089\n",
      "1156\n",
      "1225\n",
      "1296\n",
      "1369\n",
      "1444\n",
      "1521\n",
      "1600\n",
      "1681\n",
      "1764\n",
      "1849\n",
      "1936\n"
     ]
    }
   ],
   "source": [
    "i=1\n",
    "while i < 100:\n",
    "    square = i**2\n",
    "    if square > 2000:\n",
    "        break\n",
    "    print(square)\n",
    "    i+=1\n",
    " "
   ]
  },
  {
   "cell_type": "code",
   "execution_count": 9,
   "id": "c347ebbf-a7f3-420c-b6ae-bc283601360c",
   "metadata": {},
   "outputs": [
    {
     "name": "stdin",
     "output_type": "stream",
     "text": [
      "Initial Investment:  100\n",
      "Target Value:  1000\n",
      "Interest Rate [%]:  10\n"
     ]
    },
    {
     "name": "stdout",
     "output_type": "stream",
     "text": [
      "year 1 value 110.0\n",
      "year 2 value 121.0\n",
      "year 3 value 133.1\n",
      "year 4 value 146.41\n",
      "year 5 value 161.05\n",
      "year 6 value 177.16\n",
      "year 7 value 194.87\n",
      "year 8 value 214.36\n",
      "year 9 value 235.79\n",
      "year 10 value 259.37\n",
      "year 11 value 285.31\n",
      "year 12 value 313.84\n",
      "year 13 value 345.23\n",
      "year 14 value 379.75\n",
      "year 15 value 417.72\n",
      "year 16 value 459.5\n",
      "year 17 value 505.45\n",
      "year 18 value 555.99\n",
      "year 19 value 611.59\n",
      "year 20 value 672.75\n",
      "year 21 value 740.02\n",
      "year 22 value 814.03\n",
      "year 23 value 895.43\n",
      "year 24 value 984.97\n",
      "year 25 value 1083.47\n"
     ]
    }
   ],
   "source": [
    "\n",
    "start = float(input(\"Initial Investment: \"))\n",
    "target = float(input(\"Target Value: \"))\n",
    "interest = int(input(\"Interest Rate [%]: \"))/100\n",
    "\n",
    "year = 0\n",
    "current = start\n",
    "while current < target:\n",
    "    year += 1\n",
    "    current *= (1+interest)\n",
    "    print(\"year\", year, \"value\", round(current,2))\n",
    "    "
   ]
  },
  {
   "cell_type": "markdown",
   "id": "0d7d3f22-cb83-4a5e-bf1b-faa7f93582cb",
   "metadata": {},
   "source": [
    "## List\n"
   ]
  },
  {
   "cell_type": "code",
   "execution_count": 12,
   "id": "96142041-e7a6-4d38-b51c-9a15dba90d00",
   "metadata": {},
   "outputs": [],
   "source": [
    "list = [1,2,3,4,5,6]"
   ]
  },
  {
   "cell_type": "code",
   "execution_count": 21,
   "id": "7e77b1b4-6559-45f7-a8da-67f9c5142806",
   "metadata": {},
   "outputs": [
    {
     "data": {
      "text/plain": [
       "3.5"
      ]
     },
     "execution_count": 21,
     "metadata": {},
     "output_type": "execute_result"
    }
   ],
   "source": [
    "sum=0\n",
    "for n in list:\n",
    "    sum +=n\n",
    "average = sum/len(list)\n",
    "average"
   ]
  },
  {
   "cell_type": "markdown",
   "id": "71cdc878-3372-4a0b-a9b1-9293f186289e",
   "metadata": {},
   "source": [
    "## Combinations"
   ]
  },
  {
   "cell_type": "code",
   "execution_count": 28,
   "id": "1068073d-ab18-471c-a472-464dd5cf8cd7",
   "metadata": {},
   "outputs": [],
   "source": [
    "sizes = ['Large', 'Medium', 'Small'] \n",
    "garments = ['Shirt', 'Jacket', 'Trousers'] \n"
   ]
  },
  {
   "cell_type": "code",
   "execution_count": 30,
   "id": "e6ec269e-e37b-4d55-a963-3b42c6a07688",
   "metadata": {},
   "outputs": [
    {
     "name": "stdout",
     "output_type": "stream",
     "text": [
      "Large Shirt\n",
      "Large Jacket\n",
      "Large Trousers\n",
      "Medium Shirt\n",
      "Medium Jacket\n",
      "Medium Trousers\n",
      "Small Shirt\n",
      "Small Jacket\n",
      "Small Trousers\n"
     ]
    }
   ],
   "source": [
    "for i in sizes:\n",
    "    for j in garments:\n",
    "        print(i,j)"
   ]
  },
  {
   "cell_type": "markdown",
   "id": "bf6d8718-58d7-44dd-be99-6fdeab1e35ec",
   "metadata": {},
   "source": [
    "## Functions"
   ]
  },
  {
   "cell_type": "code",
   "execution_count": 53,
   "id": "59ab468a-3e70-4424-b4b4-be1152e54a0b",
   "metadata": {},
   "outputs": [],
   "source": [
    "def make_upper(text=\"\"):\n",
    "    return text.upper()"
   ]
  },
  {
   "cell_type": "markdown",
   "id": "5deaa8bf-d634-4564-a76b-347b2d6236bf",
   "metadata": {},
   "source": [
    "## File Handling"
   ]
  },
  {
   "cell_type": "code",
   "execution_count": 67,
   "id": "1c9d15b9-d5fb-46e9-8645-f090db911730",
   "metadata": {},
   "outputs": [
    {
     "ename": "FileNotFoundError",
     "evalue": "[Errno 2] No such file or directory: 'data/data.txt'",
     "output_type": "error",
     "traceback": [
      "\u001b[1;31m---------------------------------------------------------------------------\u001b[0m",
      "\u001b[1;31mFileNotFoundError\u001b[0m                         Traceback (most recent call last)",
      "Cell \u001b[1;32mIn[67], line 1\u001b[0m\n\u001b[1;32m----> 1\u001b[0m data \u001b[38;5;241m=\u001b[39m \u001b[38;5;28mopen\u001b[39m(\u001b[38;5;124m'\u001b[39m\u001b[38;5;124mdata/data.txt\u001b[39m\u001b[38;5;124m'\u001b[39m,\u001b[38;5;124m'\u001b[39m\u001b[38;5;124mr\u001b[39m\u001b[38;5;124m'\u001b[39m)\u001b[38;5;241m.\u001b[39mread()\u001b[38;5;241m.\u001b[39msplit(\u001b[38;5;124m'\u001b[39m\u001b[38;5;130;01m\\n\u001b[39;00m\u001b[38;5;124m'\u001b[39m)\n\u001b[0;32m      2\u001b[0m \u001b[38;5;28mprint\u001b[39m(data)\n",
      "File \u001b[1;32m~\\anaconda3\\Lib\\site-packages\\IPython\\core\\interactiveshell.py:324\u001b[0m, in \u001b[0;36m_modified_open\u001b[1;34m(file, *args, **kwargs)\u001b[0m\n\u001b[0;32m    317\u001b[0m \u001b[38;5;28;01mif\u001b[39;00m file \u001b[38;5;129;01min\u001b[39;00m {\u001b[38;5;241m0\u001b[39m, \u001b[38;5;241m1\u001b[39m, \u001b[38;5;241m2\u001b[39m}:\n\u001b[0;32m    318\u001b[0m     \u001b[38;5;28;01mraise\u001b[39;00m \u001b[38;5;167;01mValueError\u001b[39;00m(\n\u001b[0;32m    319\u001b[0m         \u001b[38;5;124mf\u001b[39m\u001b[38;5;124m\"\u001b[39m\u001b[38;5;124mIPython won\u001b[39m\u001b[38;5;124m'\u001b[39m\u001b[38;5;124mt let you open fd=\u001b[39m\u001b[38;5;132;01m{\u001b[39;00mfile\u001b[38;5;132;01m}\u001b[39;00m\u001b[38;5;124m by default \u001b[39m\u001b[38;5;124m\"\u001b[39m\n\u001b[0;32m    320\u001b[0m         \u001b[38;5;124m\"\u001b[39m\u001b[38;5;124mas it is likely to crash IPython. If you know what you are doing, \u001b[39m\u001b[38;5;124m\"\u001b[39m\n\u001b[0;32m    321\u001b[0m         \u001b[38;5;124m\"\u001b[39m\u001b[38;5;124myou can use builtins\u001b[39m\u001b[38;5;124m'\u001b[39m\u001b[38;5;124m open.\u001b[39m\u001b[38;5;124m\"\u001b[39m\n\u001b[0;32m    322\u001b[0m     )\n\u001b[1;32m--> 324\u001b[0m \u001b[38;5;28;01mreturn\u001b[39;00m io_open(file, \u001b[38;5;241m*\u001b[39margs, \u001b[38;5;241m*\u001b[39m\u001b[38;5;241m*\u001b[39mkwargs)\n",
      "\u001b[1;31mFileNotFoundError\u001b[0m: [Errno 2] No such file or directory: 'data/data.txt'"
     ]
    }
   ],
   "source": [
    "data = open('data/data.txt','r').read().split('\\n')\n",
    "print(data)"
   ]
  },
  {
   "cell_type": "code",
   "execution_count": null,
   "id": "e11084ce-1628-4f33-96c8-c7402968fea7",
   "metadata": {},
   "outputs": [],
   "source": []
  }
 ],
 "metadata": {
  "kernelspec": {
   "display_name": "Python 3 (ipykernel)",
   "language": "python",
   "name": "python3"
  },
  "language_info": {
   "codemirror_mode": {
    "name": "ipython",
    "version": 3
   },
   "file_extension": ".py",
   "mimetype": "text/x-python",
   "name": "python",
   "nbconvert_exporter": "python",
   "pygments_lexer": "ipython3",
   "version": "3.12.4"
  }
 },
 "nbformat": 4,
 "nbformat_minor": 5
}
