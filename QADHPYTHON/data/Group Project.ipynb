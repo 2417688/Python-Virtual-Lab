{
 "cells": [
  {
   "cell_type": "code",
   "execution_count": 2,
   "id": "70d675d1-2e81-4602-8658-9bd162cd7a41",
   "metadata": {},
   "outputs": [],
   "source": [
    "import random"
   ]
  },
  {
   "cell_type": "code",
   "execution_count": 4,
   "id": "04700ef7-81de-47c4-b5a6-272bb7e4a8ac",
   "metadata": {},
   "outputs": [
    {
     "name": "stdin",
     "output_type": "stream",
     "text": [
      "Guess the number? 3\n"
     ]
    },
    {
     "name": "stdout",
     "output_type": "stream",
     "text": [
      "You guessed correctly\n"
     ]
    }
   ],
   "source": [
    "number = random.randint(1,5)\n",
    "\n",
    "count = 5\n",
    "\n",
    "while count > 0:\n",
    "    guess = int(input(\"Guess the number?\"))\n",
    "    if guess == number:\n",
    "        print(\"You guessed correctly\")\n",
    "        break\n",
    "    else:\n",
    "        print(\"Incorrect\")\n",
    "        count -= 1\n",
    "\n",
    "if count == 0: \n",
    "    print(\"Game Over, the number was\", number)"
   ]
  },
  {
   "cell_type": "code",
   "execution_count": null,
   "id": "c479c14d-28c9-4180-9ce1-5743887a641c",
   "metadata": {},
   "outputs": [],
   "source": [
    "diff = input(\"Enter difficulty, hard, medium, easy\")\n",
    "\n",
    "if diff == \"easy\":\n",
    "    count = 10\n",
    "    total = 10\n",
    "\n",
    "elif diff == \"medium\":\n",
    "    count = 5\n",
    "    total = 5\n",
    "\n",
    "elif diff == \"hard\":\n",
    "    count = 3\n",
    "    total = 3\n",
    "\n",
    "number = random.randint(1,5)\n",
    "\n",
    "print(\"You have\", count, \"guesses\")\n",
    "previous_guess = None\n",
    "\n",
    "while count > 0:\n",
    "    try: \n",
    "        guess = int(input(\"Guess the number?\"))\n",
    "    except ValueError:\n",
    "        print(\"please enter an integer\")\n",
    "        continue\n",
    "    if guess == number:\n",
    "        print(\"You guessed correctly\")\n",
    "        break\n",
    "    else:\n",
    "        if previous_guess is not None:\n",
    "            if abs(guess-number)< abs(previous_guess-number):\n",
    "                print(\"warmer\")\n",
    "            elif abs(guess-number)> abs(previous_guess-number):\n",
    "                print(\"colder\")\n",
    "        print(\"Incorrect\")\n",
    "        count -= 1\n",
    "\n",
    "if count == 0: \n",
    "    print(\"Game Over, the number was\", number)\n",
    "          "
   ]
  }
 ],
 "metadata": {
  "kernelspec": {
   "display_name": "Python 3 (ipykernel)",
   "language": "python",
   "name": "python3"
  },
  "language_info": {
   "codemirror_mode": {
    "name": "ipython",
    "version": 3
   },
   "file_extension": ".py",
   "mimetype": "text/x-python",
   "name": "python",
   "nbconvert_exporter": "python",
   "pygments_lexer": "ipython3",
   "version": "3.12.4"
  }
 },
 "nbformat": 4,
 "nbformat_minor": 5
}
