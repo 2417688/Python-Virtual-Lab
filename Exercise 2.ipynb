{
 "cells": [
  {
   "cell_type": "code",
   "execution_count": 2,
   "id": "0fcac960-ea05-4757-8739-efc8f22ad17f",
   "metadata": {},
   "outputs": [],
   "source": [
    "ages = [12,18,33,84,45,67,12,82,95,16,10,23,43,29,40,34,30,16,44,69,70,74,38, 65,36,83,50,11,79,64,78,37,3,8,68,22,4,60,33,82,45,23,5,18,28,99,17,81 ,14,88,50,19,59,7,44,93,35,72,25,63,11,69,11,76,10,60,30,14,21,82,47,6 ,21,88,46,78,92,48,36,28,51] \n"
   ]
  },
  {
   "cell_type": "code",
   "execution_count": 5,
   "id": "369669a8-f44f-4fa6-8bef-0fdae7c34a64",
   "metadata": {},
   "outputs": [
    {
     "name": "stdout",
     "output_type": "stream",
     "text": [
      "81\n"
     ]
    }
   ],
   "source": [
    "ages_length = len(ages)\n",
    "print(ages_length)"
   ]
  },
  {
   "cell_type": "code",
   "execution_count": 8,
   "id": "ae5f08a6-44d9-4143-975f-c7d989040277",
   "metadata": {},
   "outputs": [
    {
     "name": "stdout",
     "output_type": "stream",
     "text": [
      "12\n"
     ]
    }
   ],
   "source": [
    "print(ages[0])"
   ]
  },
  {
   "cell_type": "code",
   "execution_count": 9,
   "id": "1a37c7df-744c-4793-ae81-eef57376baf1",
   "metadata": {},
   "outputs": [
    {
     "name": "stdout",
     "output_type": "stream",
     "text": [
      "51\n"
     ]
    }
   ],
   "source": [
    "print(ages[-1])"
   ]
  },
  {
   "cell_type": "code",
   "execution_count": 10,
   "id": "b7c1954c-ec21-47bc-8596-7f4bef4bd64b",
   "metadata": {},
   "outputs": [
    {
     "name": "stdout",
     "output_type": "stream",
     "text": [
      "[33, 84, 45, 67, 12, 82, 95, 16, 10, 23, 43, 29, 40, 34, 30, 16, 44, 69, 70, 74, 38, 65, 36, 83, 50, 11, 79, 64, 78, 37, 3, 8, 68, 22, 4, 60, 33, 82, 45, 23, 5, 18, 28, 99, 17, 81, 14, 88, 50, 19, 59, 7, 44, 93, 35, 72, 25, 63, 11, 69, 11, 76, 10, 60, 30, 14, 21, 82, 47, 6, 21, 88, 46, 78, 92, 48, 36, 28, 51]\n"
     ]
    }
   ],
   "source": [
    "print(ages[2:82])"
   ]
  },
  {
   "cell_type": "code",
   "execution_count": 63,
   "id": "920b53bb-6624-44cb-bd09-30dfe325a9c4",
   "metadata": {},
   "outputs": [
    {
     "name": "stdout",
     "output_type": "stream",
     "text": [
      "[16, 95, 82, 12, 67, 45, 84, 33, 18, 12]\n"
     ]
    }
   ],
   "source": [
    "print(ages[9::-1])"
   ]
  },
  {
   "cell_type": "code",
   "execution_count": 26,
   "id": "ce4564bb-0829-4b41-a45e-04e9ebdbbf10",
   "metadata": {},
   "outputs": [],
   "source": [
    "odd = [1,3,5,7,9,11,15,17,19,21]\n"
   ]
  },
  {
   "cell_type": "code",
   "execution_count": 27,
   "id": "df464801-7de4-4f93-9cbd-0773f5a4abb2",
   "metadata": {},
   "outputs": [],
   "source": [
    "odd.insert(6,13)"
   ]
  },
  {
   "cell_type": "code",
   "execution_count": 28,
   "id": "7c308332-ddd9-482f-9f71-c3e0491d94bb",
   "metadata": {},
   "outputs": [
    {
     "data": {
      "text/plain": [
       "[1, 3, 5, 7, 9, 11, 13, 15, 17, 19, 21]"
      ]
     },
     "execution_count": 28,
     "metadata": {},
     "output_type": "execute_result"
    }
   ],
   "source": [
    "odd"
   ]
  },
  {
   "cell_type": "code",
   "execution_count": 29,
   "id": "ce9349d7-18c9-4828-9819-fd4ed82849f1",
   "metadata": {},
   "outputs": [],
   "source": [
    "greeting = \"Hello\""
   ]
  },
  {
   "cell_type": "code",
   "execution_count": 30,
   "id": "51baa130-02aa-4888-88e9-bc3b7630d72d",
   "metadata": {},
   "outputs": [
    {
     "name": "stdout",
     "output_type": "stream",
     "text": [
      "olleH\n"
     ]
    }
   ],
   "source": [
    "print(greeting[4::-1])"
   ]
  },
  {
   "cell_type": "code",
   "execution_count": 31,
   "id": "0e168979-f781-44fc-88eb-7cb2222c6e56",
   "metadata": {},
   "outputs": [],
   "source": [
    "UK = 'UNITED KINGDOM OF GREAT BRITAIN AND NORTHERN IRELAND' "
   ]
  },
  {
   "cell_type": "code",
   "execution_count": 32,
   "id": "08607dcd-2572-4377-bc9e-7a0ded78622c",
   "metadata": {},
   "outputs": [
    {
     "data": {
      "text/plain": [
       "'United Kingdom Of Great Britain And Northern Ireland'"
      ]
     },
     "execution_count": 32,
     "metadata": {},
     "output_type": "execute_result"
    }
   ],
   "source": [
    "UK.title()"
   ]
  },
  {
   "cell_type": "code",
   "execution_count": 33,
   "id": "9c00983a-20b0-4d68-b01e-e6d43d087d1f",
   "metadata": {},
   "outputs": [],
   "source": [
    "byron = 'Fare thee well and if forever still forever fare thee  well'\n"
   ]
  },
  {
   "cell_type": "code",
   "execution_count": 35,
   "id": "d61a3b16-c3ce-4b82-bb36-935e96d4607e",
   "metadata": {},
   "outputs": [
    {
     "data": {
      "text/plain": [
       "22"
      ]
     },
     "execution_count": 35,
     "metadata": {},
     "output_type": "execute_result"
    }
   ],
   "source": [
    "byron.find('forever')"
   ]
  },
  {
   "cell_type": "code",
   "execution_count": 37,
   "id": "07cca396-8c56-4168-ab73-450392761fff",
   "metadata": {},
   "outputs": [],
   "source": [
    "favourite_desserts = (\"tiramisu\", \"ice cream\", \"cake\")"
   ]
  },
  {
   "cell_type": "code",
   "execution_count": 39,
   "id": "223c7470-73b2-4cbf-adfa-2877805e15e4",
   "metadata": {},
   "outputs": [
    {
     "name": "stdout",
     "output_type": "stream",
     "text": [
      "3\n"
     ]
    }
   ],
   "source": [
    "print(len(favourite_desserts))"
   ]
  },
  {
   "cell_type": "code",
   "execution_count": 40,
   "id": "5ad40e71-4786-429c-bbb9-35b3aa07504c",
   "metadata": {},
   "outputs": [
    {
     "name": "stdout",
     "output_type": "stream",
     "text": [
      "ice cream\n"
     ]
    }
   ],
   "source": [
    "print(favourite_desserts[1])"
   ]
  },
  {
   "cell_type": "code",
   "execution_count": 41,
   "id": "056dacd4-41de-4959-abb1-978cc86a7480",
   "metadata": {},
   "outputs": [
    {
     "name": "stdout",
     "output_type": "stream",
     "text": [
      "cake\n"
     ]
    }
   ],
   "source": [
    "print(favourite_desserts[-1])"
   ]
  },
  {
   "cell_type": "code",
   "execution_count": 42,
   "id": "c7b5bb9a-3326-4d10-948e-db7fadb6c89c",
   "metadata": {},
   "outputs": [
    {
     "name": "stdout",
     "output_type": "stream",
     "text": [
      "('tiramisu', 'ice cream')\n"
     ]
    }
   ],
   "source": [
    "print(favourite_desserts[0:2])"
   ]
  },
  {
   "cell_type": "code",
   "execution_count": 43,
   "id": "9c77a1df-f390-4c1a-9ed0-7bb756f479d7",
   "metadata": {},
   "outputs": [
    {
     "data": {
      "text/plain": [
       "('tiramisu', 'ice cream')"
      ]
     },
     "execution_count": 43,
     "metadata": {},
     "output_type": "execute_result"
    }
   ],
   "source": [
    "favourite_desserts[0:2]"
   ]
  },
  {
   "cell_type": "code",
   "execution_count": 44,
   "id": "88339755-e1ab-407e-a671-ae0628068cd3",
   "metadata": {},
   "outputs": [
    {
     "data": {
      "text/plain": [
       "False"
      ]
     },
     "execution_count": 44,
     "metadata": {},
     "output_type": "execute_result"
    }
   ],
   "source": [
    "'pancakes' in favourite_desserts"
   ]
  },
  {
   "cell_type": "code",
   "execution_count": 45,
   "id": "897af87c-303a-4d41-9c83-fa5f68cf9a61",
   "metadata": {},
   "outputs": [],
   "source": [
    "books = { \n",
    " \"title\": \"Hamlet\", \n",
    " \"author\": \"William Shakespeare\", \n",
    " \"language\": \"English\" \n",
    "} \n"
   ]
  },
  {
   "cell_type": "code",
   "execution_count": 49,
   "id": "6fd7c7f1-b18f-46b9-b86c-6199fb461496",
   "metadata": {},
   "outputs": [
    {
     "data": {
      "text/plain": [
       "'Hamlet'"
      ]
     },
     "execution_count": 49,
     "metadata": {},
     "output_type": "execute_result"
    }
   ],
   "source": [
    "books['title']"
   ]
  },
  {
   "cell_type": "code",
   "execution_count": 50,
   "id": "a9667972-f159-46dd-99f3-3ccd7c9ebbbb",
   "metadata": {},
   "outputs": [
    {
     "data": {
      "text/plain": [
       "dict_keys(['title', 'author', 'language'])"
      ]
     },
     "execution_count": 50,
     "metadata": {},
     "output_type": "execute_result"
    }
   ],
   "source": [
    "books.keys()"
   ]
  },
  {
   "cell_type": "code",
   "execution_count": 52,
   "id": "c18ce03a-2e33-48d1-a323-97cce9c8e36b",
   "metadata": {},
   "outputs": [
    {
     "data": {
      "text/plain": [
       "dict_values(['Hamlet', 'William Shakespeare', 'English'])"
      ]
     },
     "execution_count": 52,
     "metadata": {},
     "output_type": "execute_result"
    }
   ],
   "source": [
    "books.values()"
   ]
  },
  {
   "cell_type": "code",
   "execution_count": 54,
   "id": "8a8feccc-605a-4df8-907a-0779372786f0",
   "metadata": {},
   "outputs": [
    {
     "data": {
      "text/plain": [
       "dict_items([('title', 'Hamlet'), ('author', 'William Shakespeare'), ('language', 'English')])"
      ]
     },
     "execution_count": 54,
     "metadata": {},
     "output_type": "execute_result"
    }
   ],
   "source": [
    "books.items()"
   ]
  },
  {
   "cell_type": "code",
   "execution_count": 57,
   "id": "11d36a18-b3a1-4e27-baa1-c737ceb545f3",
   "metadata": {},
   "outputs": [],
   "source": [
    "books['title'] = 'King Lear'"
   ]
  },
  {
   "cell_type": "code",
   "execution_count": 58,
   "id": "b7125136-5809-4b99-b86d-6a90e73cb574",
   "metadata": {},
   "outputs": [
    {
     "name": "stdout",
     "output_type": "stream",
     "text": [
      "{'title': 'King Lear', 'author': 'William Shakespeare', 'language': 'English'}\n"
     ]
    }
   ],
   "source": [
    "print(books)"
   ]
  },
  {
   "cell_type": "code",
   "execution_count": null,
   "id": "8afae918-645b-480f-a463-8b7105eb9941",
   "metadata": {},
   "outputs": [],
   "source": []
  }
 ],
 "metadata": {
  "kernelspec": {
   "display_name": "Python 3 (ipykernel)",
   "language": "python",
   "name": "python3"
  },
  "language_info": {
   "codemirror_mode": {
    "name": "ipython",
    "version": 3
   },
   "file_extension": ".py",
   "mimetype": "text/x-python",
   "name": "python",
   "nbconvert_exporter": "python",
   "pygments_lexer": "ipython3",
   "version": "3.11.9"
  }
 },
 "nbformat": 4,
 "nbformat_minor": 5
}
