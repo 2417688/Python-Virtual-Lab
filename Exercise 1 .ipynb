{
 "cells": [
  {
   "cell_type": "code",
   "execution_count": 2,
   "id": "1e62b13c-b670-4546-ac2b-7be05bb3157d",
   "metadata": {},
   "outputs": [
    {
     "name": "stdout",
     "output_type": "stream",
     "text": [
      "Bob is 32 years old\n"
     ]
    }
   ],
   "source": [
    "username = 'Bob'\n",
    "age = 32\n",
    "print(username+' is '+str(age)+' years old')"
   ]
  },
  {
   "cell_type": "code",
   "execution_count": 3,
   "id": "8bd0bad5-a598-4640-94eb-a6bf6baa50e8",
   "metadata": {},
   "outputs": [
    {
     "name": "stdin",
     "output_type": "stream",
     "text": [
      "Please enter your name Zana\n",
      "Please enter your age 22\n"
     ]
    },
    {
     "name": "stdout",
     "output_type": "stream",
     "text": [
      "Zana is 22 years old\n"
     ]
    }
   ],
   "source": [
    "username = input('Please enter your name')\n",
    "age = input('Please enter your age')\n",
    "print(username, 'is', age, 'years old')"
   ]
  },
  {
   "cell_type": "code",
   "execution_count": 4,
   "id": "fdccdc25-79fd-4b37-a422-7a45acebe56f",
   "metadata": {},
   "outputs": [],
   "source": [
    "crayons = 50\n",
    "children = 6"
   ]
  },
  {
   "cell_type": "code",
   "execution_count": 5,
   "id": "d2dcfdf1-1da1-4720-8366-3d6da0e59825",
   "metadata": {},
   "outputs": [
    {
     "data": {
      "text/plain": [
       "8"
      ]
     },
     "execution_count": 5,
     "metadata": {},
     "output_type": "execute_result"
    }
   ],
   "source": [
    "crayons // children"
   ]
  },
  {
   "cell_type": "code",
   "execution_count": 6,
   "id": "c345406c-1c62-4b36-9c2f-de6527514c0e",
   "metadata": {},
   "outputs": [
    {
     "name": "stdin",
     "output_type": "stream",
     "text": [
      "What is the length of the first side? 12\n"
     ]
    }
   ],
   "source": [
    "length = int(input(\"What is the length of the first side?\" ))"
   ]
  },
  {
   "cell_type": "code",
   "execution_count": 8,
   "id": "78d7374f-146c-4ff1-8889-d9b3d00ef207",
   "metadata": {},
   "outputs": [
    {
     "name": "stdin",
     "output_type": "stream",
     "text": [
      "What is the length of the second side? 14\n"
     ]
    }
   ],
   "source": [
    "width = int(input(\"What is the length of the second side?\"))"
   ]
  },
  {
   "cell_type": "code",
   "execution_count": 10,
   "id": "2d0a4c74-e0bc-4ddb-af4f-dc014d30bd64",
   "metadata": {},
   "outputs": [
    {
     "name": "stdout",
     "output_type": "stream",
     "text": [
      "52\n",
      "168\n"
     ]
    }
   ],
   "source": [
    "perimeter = 2*length + 2*width\n",
    "area = length*width\n",
    "\n",
    "print(perimeter)\n",
    "print(area)"
   ]
  },
  {
   "cell_type": "code",
   "execution_count": null,
   "id": "8eb07137-b8f3-4877-8786-1d0e94225cab",
   "metadata": {},
   "outputs": [],
   "source": []
  }
 ],
 "metadata": {
  "kernelspec": {
   "display_name": "Python 3 (ipykernel)",
   "language": "python",
   "name": "python3"
  },
  "language_info": {
   "codemirror_mode": {
    "name": "ipython",
    "version": 3
   },
   "file_extension": ".py",
   "mimetype": "text/x-python",
   "name": "python",
   "nbconvert_exporter": "python",
   "pygments_lexer": "ipython3",
   "version": "3.11.9"
  }
 },
 "nbformat": 4,
 "nbformat_minor": 5
}
